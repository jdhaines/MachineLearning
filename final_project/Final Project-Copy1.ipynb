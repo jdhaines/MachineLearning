{
 "cells": [
  {
   "cell_type": "markdown",
   "metadata": {},
   "source": [
    "# Udacity UD120 - Final Project\n",
    "###  by: Josh Haines - Q4 2015\n"
   ]
  },
  {
   "cell_type": "markdown",
   "metadata": {},
   "source": [
    " "
   ]
  },
  {
   "cell_type": "markdown",
   "metadata": {},
   "source": [
    " "
   ]
  },
  {
   "cell_type": "markdown",
   "metadata": {},
   "source": [
    "## Project Code & Comments"
   ]
  },
  {
   "cell_type": "markdown",
   "metadata": {},
   "source": [
    "import statments"
   ]
  },
  {
   "cell_type": "code",
   "execution_count": null,
   "metadata": {
    "collapsed": true
   },
   "outputs": [],
   "source": [
    "import sys\n",
    "import pickle\n",
    "sys.path.append(\"../tools/\")\n",
    "from feature_format import featureFormat, targetFeatureSplit\n",
    "from tester import dump_classifier_and_data\n",
    "\n",
    "# Load the dictionary containing the dataset\n",
    "with open(\"final_project_dataset.pkl\", \"r\") as data_file : data_dict = pickle.load(data_file)"
   ]
  },
  {
   "cell_type": "markdown",
   "metadata": {},
   "source": [
    "##### Examine the Dataset"
   ]
  },
  {
   "cell_type": "markdown",
   "metadata": {},
   "source": [
    "Let's do some exploring of the data to get a feel for what is in it...\n",
    "This is the Enron corpus dataset.  It includes emails, financial, and investigative information on various Enron employees from the days around their major scandal.  The data is organized as a dict of dicts which is a slick way of saying it's a dictionary of dictionaries.  You can think of it organized like the following: \n",
    "\n",
    "* Sally\n",
    "    * Salary: X\n",
    "    * Emails Sent: Y\n",
    "    * Person of Interest: true\n",
    "    * ... 21 \"features\" total per person\n",
    "* John\n",
    "    * Salary: X'\n",
    "    * Emails Sent: Y'\n",
    "    * Person of Interest: false\n",
    "    * ...\n",
    "* ... 146 People Total\n",
    "\n",
    "The dataset is mostly complete, but a few places are empty.  In these places the value \"NaN\" is put in to not break the code.  We'll have to take this into account.\n",
    "\n",
    "A few definitions may help you make sense of this data.\n",
    "POI - Person of Interest (in the Enron investigation)\n",
    "Names - Are formatted as \"LAST FIRST MI\"\n",
    "Emails - Some features are listed as \"from this person to poi\" that would mean the number in that field is the number of emails this person sent to people on the POI list."
   ]
  },
  {
   "cell_type": "code",
   "execution_count": null,
   "metadata": {
    "collapsed": false
   },
   "outputs": [],
   "source": [
    "print('Number of People in the dataset: {}'.format(len(data_dict)))\n",
    "print\n",
    "print('A list of the people in the dataset.')\n",
    "print('{}'.format([i for i in data_dict]))\n",
    "print\n",
    "print(\"All features for a single person, let's use the CEO: Jeff Skilling.\")\n",
    "print('{}'.format(data_dict[\"SKILLING JEFFREY K\"]))\n"
   ]
  },
  {
   "cell_type": "code",
   "execution_count": null,
   "metadata": {
    "collapsed": false
   },
   "outputs": [],
   "source": [
    "print(\"Let's see all the salaries and number of emails sent for everyone in the dataset.\")\n",
    "print\n",
    "print('Name -- Salary -- Emails Sent')\n",
    "print\n",
    "for i in sorted(data_dict):\n",
    "    print('{} -- ${} -- {}'.format(i, data_dict[i]['salary'], data_dict[i]['from_messages']))"
   ]
  },
  {
   "cell_type": "markdown",
   "metadata": {},
   "source": [
    "##### Task 1: Select the Data Features"
   ]
  },
  {
   "cell_type": "markdown",
   "metadata": {},
   "source": [
    "Deciding on features to use to determine POI status is a tough choice.  I'm leaning towards using the emails features and other features to check association with POIs as my method.  I'll probably do PCA and let the algorithm decide on features just as a test as well.  I better do some visualization first.\n",
    "\n",
    "Let's start with total emails with POIs vs being a POI"
   ]
  },
  {
   "cell_type": "code",
   "execution_count": null,
   "metadata": {
    "collapsed": false
   },
   "outputs": [],
   "source": [
    "import matplotlib\n",
    "from matplotlib import pyplot as plt\n",
    "%matplotlib notebook\n",
    "\n",
    "emails_with_pois = []\n",
    "is_poi = []\n",
    "\n",
    "# make x and y axes for a graph\n",
    "for i in data_dict:\n",
    "    emails_with_pois.append(data_dict[i]['from_this_person_to_poi'] + data_dict[i]['from_poi_to_this_person'])\n",
    "    if data_dict[i]['poi'] == True:\n",
    "        is_poi.append(1)\n",
    "    else:\n",
    "        is_poi.append(0)\n",
    "# clean up NaN issues\n",
    "emails_with_pois = [i if i != 'NaNNaN' else 0 for i in emails_with_pois]\n",
    "\n",
    "# print('emails_with_pois: {}'.format(emails_with_pois))\n",
    "# print('is_poi: {}'.format(is_poi))\n",
    "plt.scatter(is_poi, emails_with_pois)\n",
    "plt.xlabel('Person is a POI')\n",
    "plt.ylabel('Total Emails with POIs')\n",
    "plt.title('POI Status vs Total Emails with POIs')\n",
    "plt.show()"
   ]
  },
  {
   "cell_type": "markdown",
   "metadata": {},
   "source": [
    "Eh, that one doesn't really show anything interesting.  Let's try another one.  How about we plot "
   ]
  },
  {
   "cell_type": "code",
   "execution_count": null,
   "metadata": {
    "collapsed": true
   },
   "outputs": [],
   "source": [
    "# features_list is a list of strings, each of which is a feature name.\n",
    "# The first feature must be \"poi\".\n",
    "features_list = ['poi','salary'] # You will need to use more features"
   ]
  },
  {
   "cell_type": "markdown",
   "metadata": {},
   "source": [
    "##### Task 2: Remove Outliers"
   ]
  },
  {
   "cell_type": "code",
   "execution_count": null,
   "metadata": {
    "collapsed": true
   },
   "outputs": [],
   "source": [
    "# code here"
   ]
  },
  {
   "cell_type": "markdown",
   "metadata": {},
   "source": [
    "##### Task 3: Create New Features"
   ]
  },
  {
   "cell_type": "code",
   "execution_count": null,
   "metadata": {
    "collapsed": true
   },
   "outputs": [],
   "source": [
    "# Store to my_dataset for easy export below.\n",
    "my_dataset = data_dict"
   ]
  },
  {
   "cell_type": "code",
   "execution_count": null,
   "metadata": {
    "collapsed": false
   },
   "outputs": [],
   "source": [
    "# Extract features and labels from dataset for local testing\n",
    "data = featureFormat(my_dataset, features_list, sort_keys = True)\n",
    "labels, features = targetFeatureSplit(data)"
   ]
  },
  {
   "cell_type": "markdown",
   "metadata": {},
   "source": [
    "##### Task 4: Use Classifiers"
   ]
  },
  {
   "cell_type": "code",
   "execution_count": null,
   "metadata": {
    "collapsed": true
   },
   "outputs": [],
   "source": [
    "# Please name your classifier clf for easy export below.\n",
    "# Note that if you want to do PCA or other multi-stage operations,\n",
    "# you'll need to use Pipelines. For more info:\n",
    "# http://scikit-learn.org/stable/modules/pipeline.html\n",
    "\n",
    "# Provided to give you a starting point. Try a variety of classifiers.\n",
    "from sklearn.naive_bayes import GaussianNB\n",
    "clf = GaussianNB()"
   ]
  },
  {
   "cell_type": "markdown",
   "metadata": {},
   "source": [
    "##### Task 5: Tune the Classifier"
   ]
  },
  {
   "cell_type": "code",
   "execution_count": null,
   "metadata": {
    "collapsed": true
   },
   "outputs": [],
   "source": [
    "# Tune your classifier to achieve better than .3 precision and recall \n",
    "# using our testing script. Check the tester.py script in the final project\n",
    "# folder for details on the evaluation method, especially the test_classifier\n",
    "# function. Because of the small size of the dataset, the script uses\n",
    "# stratified shuffle split cross validation. For more info: \n",
    "# http://scikit-learn.org/stable/modules/generated/sklearn.cross_validation.StratifiedShuffleSplit.html\n",
    "\n",
    "# Example starting point. Try investigating other evaluation techniques!\n",
    "from sklearn.cross_validation import train_test_split\n",
    "features_train, features_test, labels_train, labels_test = \\\n",
    "    train_test_split(features, labels, test_size=0.3, random_state=42)"
   ]
  },
  {
   "cell_type": "markdown",
   "metadata": {},
   "source": [
    "##### Task 6: Output Your Variables"
   ]
  },
  {
   "cell_type": "code",
   "execution_count": null,
   "metadata": {
    "collapsed": true
   },
   "outputs": [],
   "source": [
    "# Dump your classifier, dataset, and features_list so anyone can\n",
    "# check your results. You do not need to change anything below, but make sure\n",
    "# that the version of poi_id.py that you submit can be run on its own and\n",
    "# generates the necessary .pkl files for validating your results.\n",
    "\n",
    "dump_classifier_and_data(clf, my_dataset, features_list)"
   ]
  },
  {
   "cell_type": "markdown",
   "metadata": {},
   "source": [
    "## Project Questions"
   ]
  },
  {
   "cell_type": "markdown",
   "metadata": {},
   "source": [
    "*Q1: Summarize for us the goal of this project and how machine learning is useful in trying to accomplish it. As part of your answer, give some background on the dataset and how it can be used to answer the project question. Were there any outliers in the data when you got it, and how did you handle those?  \n",
    "[relevant rubric items: “data exploration”, “outlier investigation”]*"
   ]
  },
  {
   "cell_type": "markdown",
   "metadata": {},
   "source": [
    "A1: The goal of the project is to use the skills learned in UD120 to be able to predict an outcome from ambigious data.  In this case, we'll be trying to find \"Persons of Interest\" (POI) from various types of information related to employees working at Enron.  We'll have financial, email, and POI data for a list of people.  The data came from the various trials the company and its employees went through.  It is rare that we would have comprehensive corporate data like this.\n",
    "\n",
    "Machine learning can make these types of analyses much faster and more accurate than having a team of forensic accountants trying to comb through the data and guess at connections.  We can use the machine learning tools from UD120 to dissect the data, compare features, and become accurate at predicting an outcome based on different types of data inputs."
   ]
  },
  {
   "cell_type": "markdown",
   "metadata": {},
   "source": [
    "*Q2: What features did you end up using in your POI identifier, and what selection process did you use to pick them? Did you have to do any scaling? Why or why not? As part of the assignment, you should attempt to engineer your own feature that does not come ready-made in the dataset -- explain what feature you tried to make, and the rationale behind it. (You do not necessarily have to use it in the final analysis, only engineer and test it.) In your feature selection step, if you used an algorithm like a decision tree, please also give the feature importances of the features that you use, and if you used an automated feature selection function like SelectKBest, please report the feature scores and reasons for your choice of parameter values.  \n",
    "[relevant rubric items: “create new features”, “properly scale features”, “intelligently select feature”]*"
   ]
  },
  {
   "cell_type": "markdown",
   "metadata": {},
   "source": [
    "A2: lorem"
   ]
  },
  {
   "cell_type": "markdown",
   "metadata": {},
   "source": [
    "*Q3: What algorithm did you end up using? What other one(s) did you try? How did model performance differ between algorithms?  \n",
    "[relevant rubric item: “pick an algorithm”]*"
   ]
  },
  {
   "cell_type": "markdown",
   "metadata": {},
   "source": [
    "A3: lorem"
   ]
  },
  {
   "cell_type": "markdown",
   "metadata": {},
   "source": [
    "*Q4: What does it mean to tune the parameters of an algorithm, and what can happen if you don’t do this well?  How did you tune the parameters of your particular algorithm? (Some algorithms do not have parameters that you need to tune -- if this is the case for the one you picked, identify and briefly explain how you would have done it for the model that was not your final choice or a different model that does utilize parameter tuning, e.g. a decision tree classifier).\n",
    "[relevant rubric item: “tune the algorithm”]*"
   ]
  },
  {
   "cell_type": "markdown",
   "metadata": {},
   "source": [
    "A4: lorem"
   ]
  },
  {
   "cell_type": "markdown",
   "metadata": {},
   "source": [
    "*Q5: What is validation, and what’s a classic mistake you can make if you do it wrong? How did you validate your analysis?  \n",
    "[relevant rubric item: “validation strategy”]*"
   ]
  },
  {
   "cell_type": "markdown",
   "metadata": {},
   "source": [
    "A5: lorem"
   ]
  },
  {
   "cell_type": "markdown",
   "metadata": {},
   "source": [
    "*Q6: Give at least 2 evaluation metrics and your average performance for each of them.  Explain an interpretation of your metrics that says something human-understandable about your algorithm’s performance.\n",
    "[relevant rubric item: “usage of evaluation metrics”]*"
   ]
  },
  {
   "cell_type": "markdown",
   "metadata": {},
   "source": [
    "A6: lorem"
   ]
  }
 ],
 "metadata": {
  "kernelspec": {
   "display_name": "Python 2",
   "language": "python",
   "name": "python2"
  },
  "language_info": {
   "codemirror_mode": {
    "name": "ipython",
    "version": 2
   },
   "file_extension": ".py",
   "mimetype": "text/x-python",
   "name": "python",
   "nbconvert_exporter": "python",
   "pygments_lexer": "ipython2",
   "version": "2.7.10"
  }
 },
 "nbformat": 4,
 "nbformat_minor": 0
}
